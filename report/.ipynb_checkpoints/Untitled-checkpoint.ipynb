{
 "cells": [
  {
   "cell_type": "code",
   "execution_count": 5,
   "id": "12ab1767",
   "metadata": {},
   "outputs": [
    {
     "name": "stdout",
     "output_type": "stream",
     "text": [
      "make tree\n",
      "make tree\n",
      "print tree\n",
      "print tree\n",
      "save tree\n",
      "save tree\n"
     ]
    }
   ],
   "source": [
    "# imports\n",
    "import csv\n",
    "\n",
    "# class definition\n",
    "class decisionTreeMaker:\n",
    "    \n",
    "    # constructor\n",
    "    def __init__(self, filename):\n",
    "        \n",
    "        # initialise variables\n",
    "        self.name = \"null\"\n",
    "        self.attribute_count = \"null\"\n",
    "        self.attribute_names = []\n",
    "        self.\n",
    "        \n",
    "        \n",
    "        # record name\n",
    "        self.name = filename\n",
    "        \n",
    "        csv_filename = filename + \".csv\"\n",
    "        \n",
    "        # open the csv\n",
    "        with open(csv_filename) as csv_file:\n",
    "            \n",
    "            # create reader\n",
    "            csv_reader = csv.reader(csv_file, delimiter=',')\n",
    "\n",
    "    def makeTree(self):\n",
    "        print(\"make tree\")\n",
    "        \n",
    "    def printTree(self):\n",
    "        print(\"print tree\")\n",
    "        \n",
    "    def saveTree(self):\n",
    "        print(\"save tree\")\n",
    "\n",
    "# beginning of program\n",
    "        \n",
    "# variable definition\n",
    "sewing = \"sewing\"\n",
    "finishing = \"finishing\"\n",
    "\n",
    "# construct objects\n",
    "sewing_tree = decisionTreeMaker(sewing)\n",
    "finishing_tree = decisionTreeMaker(finishing)\n",
    "\n",
    "# instruct the objects to make trees\n",
    "sewing_tree.makeTree()\n",
    "finishing_tree.makeTree()\n",
    "\n",
    "# print the trees\n",
    "sewing_tree.printTree()\n",
    "finishing_tree.printTree()\n",
    "\n",
    "# save the trees\n",
    "sewing_tree.saveTree()\n",
    "finishing_tree.saveTree()"
   ]
  },
  {
   "cell_type": "code",
   "execution_count": null,
   "id": "c9b2616c",
   "metadata": {},
   "outputs": [],
   "source": []
  }
 ],
 "metadata": {
  "kernelspec": {
   "display_name": "Python 3",
   "language": "python",
   "name": "python3"
  },
  "language_info": {
   "codemirror_mode": {
    "name": "ipython",
    "version": 3
   },
   "file_extension": ".py",
   "mimetype": "text/x-python",
   "name": "python",
   "nbconvert_exporter": "python",
   "pygments_lexer": "ipython3",
   "version": "3.8.8"
  }
 },
 "nbformat": 4,
 "nbformat_minor": 5
}
